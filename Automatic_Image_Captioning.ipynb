{
  "nbformat": 4,
  "nbformat_minor": 0,
  "metadata": {
    "colab": {
      "name": "Automatic-Image-Captioning.ipynb",
      "provenance": [],
      "mount_file_id": "https://github.com/tilakparth/Automatic-Image-Captioning/blob/main/Automatic_Image_Captioning.ipynb",
      "authorship_tag": "ABX9TyORGaUmhZvrEDXvCGQcBhXO",
      "include_colab_link": true
    },
    "kernelspec": {
      "name": "python3",
      "display_name": "Python 3"
    },
    "language_info": {
      "name": "python"
    }
  },
  "cells": [
    {
      "cell_type": "markdown",
      "metadata": {
        "id": "view-in-github",
        "colab_type": "text"
      },
      "source": [
        "<a href=\"https://colab.research.google.com/github/tilakparth/Automatic-Image-Captioning/blob/main/Automatic_Image_Captioning.ipynb\" target=\"_parent\"><img src=\"https://colab.research.google.com/assets/colab-badge.svg\" alt=\"Open In Colab\"/></a>"
      ]
    },
    {
      "cell_type": "code",
      "metadata": {
        "id": "NF7xVA29CrHO"
      },
      "source": [
        "import numpy as np\n",
        "from numpy import array\n",
        "import pandas as pd\n",
        "import matplotlib.pyplot as plt"
      ],
      "execution_count": 5,
      "outputs": []
    },
    {
      "cell_type": "code",
      "metadata": {
        "colab": {
          "base_uri": "https://localhost:8080/"
        },
        "id": "Ungs5HQkFbrN",
        "outputId": "be6f5096-1a77-4349-8c31-8c7a4a826eca"
      },
      "source": [
        "def load_document(filename):\n",
        "\t# open the file as read only\n",
        "\tfile = open(filename, 'r')\n",
        "\t# read all text\n",
        "\ttext = file.read()\n",
        "\t# close the file\n",
        "\tfile.close()\n",
        "\treturn text\n",
        "\n",
        "filename = \"/content/drive/MyDrive/Image Captioning/captions.txt\"\n",
        "# load descriptions\n",
        "doc = load_document(filename)\n",
        "print(doc[:300])"
      ],
      "execution_count": 9,
      "outputs": [
        {
          "output_type": "stream",
          "text": [
            "image,caption\n",
            "1000268201_693b08cb0e.jpg,A child in a pink dress is climbing up a set of stairs in an entry way .\n",
            "1000268201_693b08cb0e.jpg,A girl going into a wooden building .\n",
            "1000268201_693b08cb0e.jpg,A little girl climbing into a wooden playhouse .\n",
            "1000268201_693b08cb0e.jpg,A little girl climbing\n"
          ],
          "name": "stdout"
        }
      ]
    },
    {
      "cell_type": "code",
      "metadata": {
        "id": "su_ETC4NGNep"
      },
      "source": [
        ""
      ],
      "execution_count": null,
      "outputs": []
    }
  ]
}